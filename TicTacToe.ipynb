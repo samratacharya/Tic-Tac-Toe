{
 "cells": [
  {
   "cell_type": "code",
   "execution_count": null,
   "metadata": {},
   "outputs": [],
   "source": [
    "# Speciically for the IPYTHON Notebook Environment for clearing output."
   ]
  },
  {
   "cell_type": "code",
   "execution_count": 13,
   "metadata": {},
   "outputs": [],
   "source": [
    "from IPython.display import clear_output\n"
   ]
  },
  {
   "cell_type": "code",
   "execution_count": 14,
   "metadata": {},
   "outputs": [],
   "source": [
    "# Global Variables"
   ]
  },
  {
   "cell_type": "code",
   "execution_count": 15,
   "metadata": {},
   "outputs": [],
   "source": [
    "board = ['']*10\n",
    "game_start = True\n",
    "announce = ''"
   ]
  },
  {
   "cell_type": "code",
   "execution_count": 16,
   "metadata": {},
   "outputs": [],
   "source": [
    "# Next make the function that will reset the board, in this case will sore the value"
   ]
  },
  {
   "cell_type": "code",
   "execution_count": 17,
   "metadata": {},
   "outputs": [],
   "source": [
    "# Note: Game will ignore the 0 index"
   ]
  },
  {
   "cell_type": "code",
   "execution_count": 18,
   "metadata": {},
   "outputs": [],
   "source": [
    "def reset_boaard():\n",
    "    global board, game_state\n",
    "    board = ['']*10\n",
    "    game_start = True"
   ]
  },
  {
   "cell_type": "code",
   "execution_count": 19,
   "metadata": {},
   "outputs": [],
   "source": [
    "# Now create a function to display the board, will use the num pad as the board refrence.\n",
    "# Note: should probably just make board and player classes later.\n",
    "def display_board():\n",
    "    '''This function prints out the boards so the numpad can be used as a refrence '''\n",
    "    # Clear the current call output\n",
    "    clear_output()\n"
   ]
  },
  {
   "cell_type": "code",
   "execution_count": 35,
   "metadata": {},
   "outputs": [
    {
     "name": "stdout",
     "output_type": "stream",
     "text": [
      "   ||   \n",
      "-------\n",
      "   ||   \n",
      "-------\n",
      "   ||   \n"
     ]
    }
   ],
   "source": [
    "# Print board\n",
    "print('   ' + board[7] + '|'     + board[8] + '|' + board[9] + '   ')\n",
    "print('-------')\n",
    "print('   ' + board[4] + '|'     + board[5] + '|' + board[6] + '   ')\n",
    "print('-------')\n",
    "print('   ' + board[1] + '|'     + board[2] + '|' + board[3] + '   ' )"
   ]
  },
  {
   "cell_type": "code",
   "execution_count": 37,
   "metadata": {},
   "outputs": [],
   "source": [
    "# Define a function t check for a win by comparing inputs in the board list.\n",
    "# Note: Maybe should just have list of winning ombos and cycle through them?\n",
    "def win_check(board,palyer):\n",
    "    '''Check Horizontals, verticals, and Diagonals for a win'''\n",
    "    if(board[7] == board[8] == board[9] == player) or \\\n",
    "    (board[4] == board[5] == board[6] == player) or \\\n",
    "    (board[1] == board[2] == board[3] == player) or \\\n",
    "    (board[7] == board[4] == board[1] == player) or \\\n",
    "    (board[8] == board[5] == board[2] == player) or \\\n",
    "    (board[9] == board[6] == board[3] == player) or \\\n",
    "    (board[1] == board[5] == board[9] == player) or \\\n",
    "    (board[3] == board[5] == board[7] == player):\n",
    "        return True\n",
    "    else:\n",
    "        return False\n",
    "    \n",
    "    "
   ]
  },
  {
   "cell_type": "code",
   "execution_count": 38,
   "metadata": {},
   "outputs": [],
   "source": [
    "# Define function to check if the board is ready full in case of a tic.\n",
    "# (This is stright forward with our board stored as a list). Just remember index 0's always empty."
   ]
  },
  {
   "cell_type": "code",
   "execution_count": 64,
   "metadata": {},
   "outputs": [],
   "source": [
    "def full_board_check(board):\n",
    "    ''' Function to check if any remaning blanks are in the board'''\n",
    "    if '' in board[1:]:\n",
    "        return False\n",
    "    else:\n",
    "        return True\n",
    "    # Now define a function to get player input and do various checks on it.\n",
    "def ask_player(mark):\n",
    "    '''Ask palyer where to place X or 0 mark, Checks validity'''\n",
    "    global board\n",
    "    req = 'Choose where to place yourr:' + 'mark'\n",
    "#     while:\n",
    "#         return False\n",
    "\n",
    "    "
   ]
  },
  {
   "cell_type": "code",
   "execution_count": null,
   "metadata": {},
   "outputs": [],
   "source": []
  },
  {
   "cell_type": "code",
   "execution_count": 89,
   "metadata": {},
   "outputs": [],
   "source": [
    "# Now define 0 function to get player input and do varoius checks on it.\n",
    "def ask_player(mark):\n",
    "    '''Asks player where to place X or 0 mark, checks validity'''\n",
    "    global board\n",
    "    req = 'Choose where to place your:' + mark \n",
    "    while True:\n",
    "        try:\n",
    "            choice = int(raw_input(req))\n",
    "        except ValueError:\n",
    "            print('Sorry, Please input a number between 1-9')\n",
    "        continue\n",
    "        if board[choice] =='':\n",
    "            board[choice] = mark\n",
    "            braek\n",
    "        else:\n",
    "            print('That space is not empty')\n",
    "        continue\n",
    "        "
   ]
  },
  {
   "cell_type": "code",
   "execution_count": 90,
   "metadata": {},
   "outputs": [],
   "source": [
    "# Now have a function that takes in the Player's choice ( via the ask _player function ) then returns the game_state.\n",
    "def player_choice(mark):\n",
    "    global board, game_state, announce\n",
    "    #Set game blank game announcement\n",
    "    announce = ''\n",
    "    #Get player Input\n",
    "    mark = str(mark)\n",
    "    #Validate input\n",
    "    ask_player(mark)"
   ]
  },
  {
   "cell_type": "code",
   "execution_count": null,
   "metadata": {},
   "outputs": [],
   "source": []
  },
  {
   "cell_type": "code",
   "execution_count": null,
   "metadata": {},
   "outputs": [],
   "source": []
  },
  {
   "cell_type": "code",
   "execution_count": 91,
   "metadata": {},
   "outputs": [
    {
     "ename": "NameError",
     "evalue": "name 'raw_input' is not defined",
     "output_type": "error",
     "traceback": [
      "\u001b[1;31m---------------------------------------------------------------------------\u001b[0m",
      "\u001b[1;31mNameError\u001b[0m                                 Traceback (most recent call last)",
      "\u001b[1;32m<ipython-input-91-88348c11eacb>\u001b[0m in \u001b[0;36m<module>\u001b[1;34m()\u001b[0m\n\u001b[0;32m      7\u001b[0m \u001b[0mmark\u001b[0m \u001b[1;33m=\u001b[0m \u001b[0mstr\u001b[0m\u001b[1;33m(\u001b[0m\u001b[0mmark\u001b[0m\u001b[1;33m)\u001b[0m\u001b[1;33m\u001b[0m\u001b[0m\n\u001b[0;32m      8\u001b[0m \u001b[1;31m#Validate input\u001b[0m\u001b[1;33m\u001b[0m\u001b[1;33m\u001b[0m\u001b[0m\n\u001b[1;32m----> 9\u001b[1;33m \u001b[0mask_player\u001b[0m\u001b[1;33m(\u001b[0m\u001b[0mmark\u001b[0m\u001b[1;33m)\u001b[0m\u001b[1;33m\u001b[0m\u001b[0m\n\u001b[0m\u001b[0;32m     10\u001b[0m \u001b[1;31m#check for player win:\u001b[0m\u001b[1;33m\u001b[0m\u001b[1;33m\u001b[0m\u001b[0m\n\u001b[0;32m     11\u001b[0m \u001b[1;32mif\u001b[0m \u001b[0mwin_check\u001b[0m\u001b[1;33m(\u001b[0m\u001b[0mboard\u001b[0m\u001b[1;33m,\u001b[0m\u001b[0mmark\u001b[0m\u001b[1;33m)\u001b[0m\u001b[1;33m:\u001b[0m\u001b[1;33m\u001b[0m\u001b[0m\n",
      "\u001b[1;32m<ipython-input-89-a2fece1e40ac>\u001b[0m in \u001b[0;36mask_player\u001b[1;34m(mark)\u001b[0m\n\u001b[0;32m      6\u001b[0m     \u001b[1;32mwhile\u001b[0m \u001b[1;32mTrue\u001b[0m\u001b[1;33m:\u001b[0m\u001b[1;33m\u001b[0m\u001b[0m\n\u001b[0;32m      7\u001b[0m         \u001b[1;32mtry\u001b[0m\u001b[1;33m:\u001b[0m\u001b[1;33m\u001b[0m\u001b[0m\n\u001b[1;32m----> 8\u001b[1;33m             \u001b[0mchoice\u001b[0m \u001b[1;33m=\u001b[0m \u001b[0mint\u001b[0m\u001b[1;33m(\u001b[0m\u001b[0mraw_input\u001b[0m\u001b[1;33m(\u001b[0m\u001b[0mreq\u001b[0m\u001b[1;33m)\u001b[0m\u001b[1;33m)\u001b[0m\u001b[1;33m\u001b[0m\u001b[0m\n\u001b[0m\u001b[0;32m      9\u001b[0m         \u001b[1;32mexcept\u001b[0m \u001b[0mValueError\u001b[0m\u001b[1;33m:\u001b[0m\u001b[1;33m\u001b[0m\u001b[0m\n\u001b[0;32m     10\u001b[0m             \u001b[0mprint\u001b[0m\u001b[1;33m(\u001b[0m\u001b[1;34m'Sorry, Please input a number between 1-9'\u001b[0m\u001b[1;33m)\u001b[0m\u001b[1;33m\u001b[0m\u001b[0m\n",
      "\u001b[1;31mNameError\u001b[0m: name 'raw_input' is not defined"
     ]
    }
   ],
   "source": [
    "# Now have a function that takes in the Player's choice ( via the ask _player function ) then returns the game_state.\n",
    "def player_choice(mark):\n",
    "    global board, game_state, announce\n",
    "#Set game blank game announcement\n",
    "announce = ''\n",
    "#Get player Input\n",
    "mark = str(mark)\n",
    "#Validate input\n",
    "ask_player(mark)\n",
    "#check for player win:\n",
    "if win_check(board,mark):\n",
    "    clear_output()\n",
    "    display_board()\n",
    "    announce = mark + ' Wins!Congratulations'\n",
    "    game_state = False\n",
    "# Show Board\n",
    "clear_otput()\n",
    "display_board()\n",
    "#check for a tie.\n",
    "if full_board_check(board):\n",
    "    announce = 'Tie!'\n",
    "    game_state = False\n",
    "return game_staate, announce\n",
    "# Finally print it all together in a function to play the game .\n",
    "def play_game():\n",
    "    reset_board()\n",
    "    global announce\n",
    "# Set marks\n",
    "X = 'X'\n",
    "O = '0'\n",
    "while True:\n",
    "    # Show board\n",
    "    clear_output()\n",
    "    display_boarrd()\n",
    "# Player X turn\n",
    "game_state,annouce = player_choice(X)\n",
    "print('announce') \n",
    "if game_state == False:\n",
    "    break\n",
    "# Player 0 turn\n",
    "game_state, announce = player_choice(0)\n",
    "print('announce')\n",
    "if game_state == False:\n",
    "    braek\n",
    "# Ask player for a rematch\n",
    "rematch = raw_input('Would you like to play again ? Y/N')\n",
    "if rematch == 'y':\n",
    "    play_game()\n",
    "else:\n",
    "    print('Thanks for Playing')\n",
    "\n",
    "    \n",
    "\n",
    "    "
   ]
  },
  {
   "cell_type": "markdown",
   "metadata": {},
   "source": [
    "# Let's Play "
   ]
  },
  {
   "cell_type": "code",
   "execution_count": 36,
   "metadata": {},
   "outputs": [
    {
     "ename": "NameError",
     "evalue": "name 'play_game' is not defined",
     "output_type": "error",
     "traceback": [
      "\u001b[1;31m---------------------------------------------------------------------------\u001b[0m",
      "\u001b[1;31mNameError\u001b[0m                                 Traceback (most recent call last)",
      "\u001b[1;32m<ipython-input-36-51076e9b4cab>\u001b[0m in \u001b[0;36m<module>\u001b[1;34m()\u001b[0m\n\u001b[1;32m----> 1\u001b[1;33m \u001b[0mplay_game\u001b[0m\u001b[1;33m(\u001b[0m\u001b[1;33m)\u001b[0m\u001b[1;33m\u001b[0m\u001b[0m\n\u001b[0m",
      "\u001b[1;31mNameError\u001b[0m: name 'play_game' is not defined"
     ]
    }
   ],
   "source": [
    "play_game()"
   ]
  },
  {
   "cell_type": "code",
   "execution_count": null,
   "metadata": {},
   "outputs": [],
   "source": []
  },
  {
   "cell_type": "code",
   "execution_count": null,
   "metadata": {},
   "outputs": [],
   "source": []
  },
  {
   "cell_type": "code",
   "execution_count": null,
   "metadata": {},
   "outputs": [],
   "source": []
  }
 ],
 "metadata": {
  "kernelspec": {
   "display_name": "Python 3",
   "language": "python",
   "name": "python3"
  },
  "language_info": {
   "codemirror_mode": {
    "name": "ipython",
    "version": 3
   },
   "file_extension": ".py",
   "mimetype": "text/x-python",
   "name": "python",
   "nbconvert_exporter": "python",
   "pygments_lexer": "ipython3",
   "version": "3.7.0"
  }
 },
 "nbformat": 4,
 "nbformat_minor": 2
}
